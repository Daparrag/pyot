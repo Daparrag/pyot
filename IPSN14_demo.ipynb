{
 "metadata": {
  "name": "IPSN14_demo"
 },
 "nbformat": 3,
 "nbformat_minor": 0,
 "worksheets": [
  {
   "cells": [
    {
     "cell_type": "heading",
     "level": 1,
     "metadata": {},
     "source": "PyoT Demo - IPSN '14"
    },
    {
     "cell_type": "heading",
     "level": 3,
     "metadata": {},
     "source": "Setup the environment"
    },
    {
     "cell_type": "code",
     "collapsed": false,
     "input": "%matplotlib inline\nimport matplotlib.pyplot as plt\nfrom networkx import *\nfrom pyot.rplApp import *\nfrom pyot.models import *\nfrom IPython.display import Image, display\nfrom networkx.algorithms import *\nimport numpy as np\nimport os\nfrom pyot.models.tres import *\nfrom pyot.tres.tresApp import *\n\ndef pngShow(path):\n    i = Image(filename=path)\n    display(i)",
     "language": "python",
     "metadata": {},
     "outputs": []
    },
    {
     "cell_type": "heading",
     "level": 3,
     "metadata": {},
     "source": "Dynamic RPL DAG visualizazion"
    },
    {
     "cell_type": "code",
     "collapsed": false,
     "input": "n = Network.objects.get(hostname='rasp@pyot')\n\ng = DAGupdate(n)\npngShow(g.getPNG())",
     "language": "python",
     "metadata": {},
     "outputs": []
    },
    {
     "cell_type": "code",
     "collapsed": false,
     "input": "n = Network.objects.get(hostname='cooja@pyot')\n\ng = DAGupdate(n)\npngShow(g.getPNG())",
     "language": "python",
     "metadata": {},
     "outputs": []
    },
    {
     "cell_type": "heading",
     "level": 3,
     "metadata": {},
     "source": "Toggle actuators on every node - Synchronous semantic"
    },
    {
     "cell_type": "code",
     "collapsed": false,
     "input": "actuators = Resource.objects.filter(uri='/actuators/toggle', host__active=True, host__network__hostname='rasp@pyot')\n\n\nfor i in range(4):\n    for act in actuators:\n        act.POST(query=\"mode=off\")\n        #act.POST()\n        print 'toggling res: ' + str(act) \n\n    for act in actuators:\n        act.POST(query=\"mode=on\")\n        #act.POST()\n        print 'toggling res: ' + str(act) \n        \nprint 'Done'",
     "language": "python",
     "metadata": {},
     "outputs": []
    },
    {
     "cell_type": "heading",
     "level": 3,
     "metadata": {},
     "source": "Toggle actuators on every node - Asynchronous semantic"
    },
    {
     "cell_type": "code",
     "collapsed": false,
     "input": "actuators = Resource.objects.filter(uri='/actuators/toggle', host__active=True, host__network__hostname='rasp@pyot')\n\nfor i in range(1):\n    tasks = []\n    for act in actuators:\n        tasks.append(act.asyncPOST(query=\"mode=on\"))\n        print 'toggling res: ' + str(act) \n    for task in tasks:\n        task.wait()\n        print task.result\n    print 'Done'\n\n    tasks = []\n    for act in actuators:\n        tasks.append(act.asyncPOST(query=\"mode=off\"))\n        print 'toggling res: ' + str(act) \n    for task in tasks:\n        task.wait()\n        print task.result\n    print 'Done' \n    ",
     "language": "python",
     "metadata": {},
     "outputs": []
    },
    {
     "cell_type": "heading",
     "level": 3,
     "metadata": {},
     "source": "Retrieve and display light values"
    },
    {
     "cell_type": "code",
     "collapsed": false,
     "input": "r = Resource.objects.filter(uri='/sensors/light', host__active=True)\nprint r\ny = []\ny2 = []\nfor light in r:\n    resp= light.GET()\n    v = resp.content\n    print light, v\n    y.append(int(v.split(';')[0]))\n    y2.append(int(v.split(';')[1]))\n\n#plot everything\nx = np.arange(len(r))\nfig, axes = plt.subplots(nrows=1, ncols=2)\naxes[0].bar(x, y, align=\"center\", width=0.5, alpha=0.5)\naxes[0].set_xlabel('Nodes')\naxes[0].set_ylabel('lux')\naxes[0].set_ylim(0, 400)\naxes[0].set_title('Light sensor value 1')\n\naxes[1].bar(x, y2, align=\"center\", width=0.5, alpha=0.5)\naxes[1].set_xlabel('Nodes')\naxes[1].set_ylabel('lux')\naxes[1].set_ylim(0, 400)\naxes[1].set_title('Light sensor value 2')\n\nfig.tight_layout()",
     "language": "python",
     "metadata": {},
     "outputs": []
    },
    {
     "cell_type": "heading",
     "level": 1,
     "metadata": {},
     "source": "In-network processing with T-Res"
    },
    {
     "cell_type": "heading",
     "level": 3,
     "metadata": {},
     "source": "Define a new processing function and install it on a T-Res Node"
    },
    {
     "cell_type": "code",
     "collapsed": false,
     "input": "halve = \"\"\"\nfrom tres_pymite import *\nprint \"Halve:\",\ni = getIntInput()\nprint i/2.\nsetOutput(i/2.)\n\"\"\"\n\nt1 = TResPF.fromSource(halve, 'halve')\n\nrin = Resource.objects.filter(uri='/light', host__active=True, host__network__hostname='cooja@pyot')\nrout = Resource.objects.filter(uri='/actuators/leds')[0]\nprint rin, rout\n\ntresTask = TResTask(TresPf=t1, inputS=rin, output=rout, period=0)\nprint tresTask\n\n\nr = Resource.objects.get(uri='/tasks')\nprint r.host, '    is a t-res node'\nresp = tresTask.deploy(r)\nprint resp",
     "language": "python",
     "metadata": {},
     "outputs": []
    },
    {
     "cell_type": "heading",
     "level": 3,
     "metadata": {},
     "source": "Activate the task"
    },
    {
     "cell_type": "code",
     "collapsed": false,
     "input": "resp = tresTask.start()\nprint resp",
     "language": "python",
     "metadata": {},
     "outputs": []
    },
    {
     "cell_type": "heading",
     "level": 3,
     "metadata": {},
     "source": "Get the last output from the T-Res node"
    },
    {
     "cell_type": "code",
     "collapsed": false,
     "input": "lo = tresTask.getLastOutput()\nprint lo.GET()",
     "language": "python",
     "metadata": {},
     "outputs": []
    },
    {
     "cell_type": "heading",
     "level": 3,
     "metadata": {},
     "source": "Stop the task"
    },
    {
     "cell_type": "code",
     "collapsed": false,
     "input": "resp = tresTask.stop()\nprint resp",
     "language": "python",
     "metadata": {},
     "outputs": []
    },
    {
     "cell_type": "heading",
     "level": 3,
     "metadata": {},
     "source": "Uninstall the task"
    },
    {
     "cell_type": "code",
     "collapsed": false,
     "input": "resp = tresTask.uninstall()\nprint resp",
     "language": "python",
     "metadata": {},
     "outputs": []
    },
    {
     "cell_type": "code",
     "collapsed": false,
     "input": "",
     "language": "python",
     "metadata": {},
     "outputs": []
    }
   ],
   "metadata": {}
  }
 ]
}